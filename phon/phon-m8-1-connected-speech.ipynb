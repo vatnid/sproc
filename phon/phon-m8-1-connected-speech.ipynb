{
 "cells": [
  {
   "cell_type": "markdown",
   "metadata": {},
   "source": [
    "# Module 8: PHON Tutorial - Connected Speech"
   ]
  },
  {
   "cell_type": "markdown",
   "metadata": {},
   "source": [
    "Recognition of an isolated word in citation form is simpler than connected speech. \n",
    "\n",
    " \n",
    "\n",
    "Connected speech exhibits coarticulation resulting from assimilation. The speech speed can change the acoustic signal too. When the articulators are in a different position, there are different resonances, which are different acoustic patterns. This may lead to recognition errors. \n",
    "\n",
    " \n",
    "\n",
    "Below are two spectrograms of the same digit sequence spoken at different speeds. Can you identify any differences that may lead to recognition errors?  \n",
    "\n",
    "#### Digits: four eight zero two one seven nine six three "
   ]
  },
  {
   "cell_type": "markdown",
   "metadata": {},
   "source": [
    "### Slower\n",
    "\n",
    "![wavs_spectrograms/slow_spec.png](wavs_spectrograms/slow_spec.png)\n",
    "\n",
    "\n",
    "[slow png](https://laic.github.io/uoe_speech_processing_course/phon/wavs_spectrograms/slow_spec.png)\n",
    "[slow wav](https://laic.github.io/uoe_speech_processing_course/phon/wavs_spectrograms/slow.wav)"
   ]
  },
  {
   "cell_type": "markdown",
   "metadata": {},
   "source": [
    "### Faster\n",
    "![wavs_spectrograms/quick_spec.png](wavs_spectrograms/quick_spec.png)\n",
    "\n",
    "[quick png](https://laic.github.io/uoe_speech_processing_course/phon/wavs_spectrograms/quick_spec.png)\n",
    "[quick wav](https://laic.github.io/uoe_speech_processing_course/phon/wavs_spectrograms/quick.wav)"
   ]
  },
  {
   "cell_type": "markdown",
   "metadata": {},
   "source": [
    "Bring your notes to the module 8 session. \n",
    "\n",
    " \n",
    "\n",
    "_NB:Jason Taylor recorded these with an RP accent._"
   ]
  },
  {
   "cell_type": "code",
   "execution_count": null,
   "metadata": {},
   "outputs": [],
   "source": []
  }
 ],
 "metadata": {
  "kernelspec": {
   "display_name": "Python 3",
   "language": "python",
   "name": "python3"
  },
  "language_info": {
   "codemirror_mode": {
    "name": "ipython",
    "version": 3
   },
   "file_extension": ".py",
   "mimetype": "text/x-python",
   "name": "python",
   "nbconvert_exporter": "python",
   "pygments_lexer": "ipython3",
   "version": "3.8.5"
  }
 },
 "nbformat": 4,
 "nbformat_minor": 4
}
