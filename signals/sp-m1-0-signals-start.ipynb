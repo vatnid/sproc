{
 "cells": [
  {
   "cell_type": "markdown",
   "metadata": {},
   "source": [
    "#  _Speech Processing Labs 2020: Signals_ \n",
    "\n",
    "This repository includes lab notebooks for the University of Edinburgh course: Speech Processing (LASC11158/LASC10061). This directory contains labs for the signal processing component of the course (Modules 1 and 2)\n",
    "\n",
    "See the [how to start](../sp-m0-how-to-start.ipynb) notebook for more info on how to get the lab notebook repository and setting up interactive mode. \n"
   ]
  },
  {
   "cell_type": "markdown",
   "metadata": {},
   "source": [
    "## 1 Signal Processing Labs with Python\n",
    "\n",
    "People taking the Speech Processing course come from lots of different backgrounds. While we assume everybody has a bit of programming experience, we've tried to design these labs so that you don't actually need to write code to work through them. Hopefully the code blocks have enough comments that you'll be able to follow even if you don't have much coding experience. Mostly you'll just need to change some variables here and there to do the exercises.  But, of course, you're welcome to play with the code to explore the topics we cover and to write your own code! \n",
    "\n",
    "\n",
    "## 2 Getting Started with NumPy and Matplotlib\n",
    "\n",
    "The main python packages we'll be using are [NumPy](https://numpy.org) and [Matplotlib](https://matplotlib.org). \n",
    "\n",
    "NumPy is _the_ python package for doing scientific computing.  That is, if you want to write programs that use vectors and matrices, you'll be using NumPy. It includes lots of efficient methods for calculating various types of functions (e.g. trig functions like sin, cos, exp) and applying them to variable sized vectors and matrices.  If you're used to using R or Matlab, you'll probably find it very familiar. If you go on to do more machine learning you'll definitely use NumPy (or packages based on it) a lot, so it's well worth getting to know.  But for this course, knowing the basics just make the code blocks a little more interpretable. \n",
    "\n",
    "Matplotlib is a comprehensive python visualization package that works well with NumPy. It is vast and complicated and we will not use that much of it's capabilities in these notebooks.  But again, you'll likely see this used in examples of plotting graphs with python in many speech processing related code bases. So, being able to recognize it's basic syntax will be helpful, but you definitely don't need to know much about this to use these notebooks.  \n",
    "\n",
    "If you want to know more, this machine learning tutorial conveniently covers jupyter, python, numpy and matplotlib: \n",
    "* [Python Numpy Tutorial (CNNs for visual recognition)](https://cs231n.github.io/python-numpy-tutorial/#jupyter-and-colab-notebooks)\n",
    " \n",
    "\n",
    "Some other numpy tutorials (there are many others):\n",
    "* [Official NumPy Getting Started](https://numpy.org/devdocs/user/quickstart.html)\n",
    "* [W3 School's interactive NumPy tutorial](https://www.w3schools.com/python/numpy_intro.asp)\n",
    "\n",
    "\n",
    "Some matplotlib tutorials: \n",
    "* [Official matplotlib user guide](https://matplotlib.org/users/index.html)\n",
    "* [Tutorial on Towards Data Science](https://towardsdatascience.com/matplotlib-tutorial-learn-basics-of-pythons-powerful-plotting-library-b5d1b8f67596)\n",
    "* [Matplotlib crash course](https://pythonprogramming.net/matplotlib-python-3-basics-tutorial/)\n"
   ]
  },
  {
   "cell_type": "markdown",
   "metadata": {},
   "source": [
    "## 3 Getting the Latest Version of these  Lab Notebooks\n",
    "\n",
    "You can get the latest version of the notebooks from this github repository:\n",
    "https://github.com/laic/uoe_speech_processing_course\n",
    "\n",
    "See the [how to start](../sp-m0-how-to-start.ipynb) for more info on how to obtain your own copy of the repository. "
   ]
  },
  {
   "cell_type": "markdown",
   "metadata": {},
   "source": [
    "## 4 List of Signals Notebooks \n",
    "\n",
    "Note: Some of these notebooks contain optional/extension material.  \n",
    "\n",
    "### M1 Analyzing Sounds in Time and Frequency\n",
    "* [Sounds and Signals (praat)](./sp-m1-1-sounds-signals.ipynb)\n",
    "* [Digital Signals: Complex numbers and sinusoids](./sp-m1-2-digital-signals-complex-numbers.ipynb)\n",
    "* [Digital Signals: Sampling sinusoids](./sp-m1-3-sampling-sinusoids.ipynb)\n",
    "* [The Discrete Fourier Transform](./sp-m1-4-discrete-fourier-transform.ipynb)\n",
    "* [Interpreting the DFT](./sp-m1-5-interpreting-the-dft.ipynb)\n",
    "\n",
    "### M2 Source and Filter\n",
    "* [Building the source: impulse trains](sp-m2-1-impulse-as-source.ipynb)\n",
    "* [FIR filters](sp-m2-2-fir-filters.ipynb)\n",
    "* [IIR filters](sp-m2-3-iir-filters.ipynb)\n",
    "\n",
    "## 5 What now? \n",
    "\n",
    "As mentioned the the [how to start](../sp-m0-how-to-start.ipynb) notebook, the labs **aren't** primarily about coding (that's what the CPSLP course is for). You don't need to understand all the workings of the code and you definitely won't need to reproduce it. However, we do want you to get some exposure to how these abstract concepts get translated into concrete programming (and do so something a bit interactive with the computer and each other!).\n",
    "\n",
    "The main tasks for the labs are these:\n",
    "\n",
    "* Go through the notebooks and discuss the answers to the questions with your tutorial group before meeting your tutor.\n",
    "    * Don't worry if you can't answer all the questions in the exercises - bring them to your tutor!\n",
    "* Discuss what you've learned and what questions you have to your tutor: \n",
    "    * Everyone in the group should take a turn leading this discussion with the tutor. Note this **doesn't** mean that person should do all the work for the week. That person should just be noting what the group did as a whole. \n",
    "\n",
    "_Ok! [Let's get started](sp-m1-sounds-signals.ipynb)!_"
   ]
  },
  {
   "cell_type": "code",
   "execution_count": null,
   "metadata": {},
   "outputs": [],
   "source": []
  }
 ],
 "metadata": {
  "kernelspec": {
   "display_name": "Python 3",
   "language": "python",
   "name": "python3"
  },
  "language_info": {
   "codemirror_mode": {
    "name": "ipython",
    "version": 3
   },
   "file_extension": ".py",
   "mimetype": "text/x-python",
   "name": "python",
   "nbconvert_exporter": "python",
   "pygments_lexer": "ipython3",
   "version": "3.8.5"
  }
 },
 "nbformat": 4,
 "nbformat_minor": 4
}
